{
  "nbformat": 4,
  "nbformat_minor": 0,
  "metadata": {
    "colab": {
      "name": "Coretec Challenges.ipynb",
      "provenance": []
    },
    "kernelspec": {
      "name": "python3",
      "display_name": "Python 3"
    },
    "language_info": {
      "name": "python"
    }
  },
  "cells": [
    {
      "cell_type": "code",
      "execution_count": null,
      "metadata": {
        "colab": {
          "base_uri": "https://localhost:8080/"
        },
        "id": "GHFRV39dPMON",
        "outputId": "fe535828-2695-4a73-b06e-5ad745fc6341"
      },
      "outputs": [
        {
          "output_type": "stream",
          "name": "stdout",
          "text": [
            "['cxujoabkwrnvp', 'cpiyjrtnz', 'qfkwjtslchmdi', 'fxtj', 'mlwitsdavgeyxzp', 'cyngr', 'xiwjphyclsezmobru', 'gpstyk', 'comptehubvw', 'nzqtyhjlgu']\n",
            "['ptdhl', 'kxqs', 'mzsuj', 'qijsc', 'cztqg', 'mbug', 'ilfb', 'ywpk', 'yecwa', 'rzql']\n",
            "['jofec', 'dezrt', 'ngazv', 'jdokq', 'bokdi', 'oulnf', 'mpcyd', 'exwlm', 'cykfz', 'kgxir']\n"
          ]
        }
      ],
      "source": [
        "import random\n",
        "import numpy as np\n",
        "\n",
        "\n",
        "def generate_names(K):\n",
        "    \"\"\"\n",
        "        Question 1.\n",
        "        Generate K names with random letters without repetion\n",
        "        params: K: Number of strings requiered\n",
        "        returns: List with K strings\n",
        "    \"\"\"\n",
        "    abc = \"abcdefghijklmnopqrstuvwxyz\"\n",
        "    generated = []\n",
        "    for i in range(K):\n",
        "        name = ''\n",
        "        L = random.randint(4, 25)\n",
        "        for j in range(L):\n",
        "            new_letter = abc[random.randint(0, 25)]\n",
        "            if new_letter not in name:\n",
        "                name += new_letter\n",
        "            else:\n",
        "                j -= 1\n",
        "        if name not in generated:\n",
        "            generated.append(name)\n",
        "        else: \n",
        "            i -= 1\n",
        "    return generated\n",
        "\n",
        "def generate_names_fixed(K, L):\n",
        "    \"\"\"\n",
        "        Question 2.\n",
        "        Generate K names L-long with random letters without repetion\n",
        "        params: K: Number of strings requiered\n",
        "                L: Lenght of every string generated\n",
        "        returns: List with K strings L-Long\n",
        "    \"\"\"\n",
        "    abc = \"abcdefghijklmnopqrstuvwxyz\"\n",
        "    generated = []\n",
        "    for i in range(K):\n",
        "        name = ''\n",
        "        for j in range(L):\n",
        "            new_letter = abc[random.randint(0, 25)]\n",
        "            if new_letter not in name:\n",
        "                name += new_letter\n",
        "            else:\n",
        "                j -= 1\n",
        "        if name not in generated:\n",
        "            generated.append(name)\n",
        "        else: \n",
        "            i -= 1\n",
        "    return generated\n",
        "\n",
        "def generate_names_better(K, L):\n",
        "    \"\"\"\n",
        "        Question 2\n",
        "        Generate K names L-long with random letters without repetion.\n",
        "        params: K: Number of strings requiered\n",
        "                L: Lenght of every string generated\n",
        "        returns: List with K strings L-Long\n",
        "    \"\"\"\n",
        "    # I can used it fancier if it's a numpy array.\n",
        "    abc = np.array(['a','b','c','d','e','f','g','h','i','j','k','l','m','n','o','p','q','r','s','t','u','v','w','x','y','z'])\n",
        "    generated = []    \n",
        "    for i in range(K):        \n",
        "        indexes = np.random.permutation(26)\n",
        "        letters = abc[indexes[:L]]\n",
        "        name = ''\n",
        "        for l in letters:\n",
        "            name += l\n",
        "        if name not in generated:\n",
        "            generated.append(name)\n",
        "        else: \n",
        "            i -= 1\n",
        "    return generated\n",
        "\n",
        "\n",
        "\n",
        "# 29 minutes.\n",
        "\n",
        "# + 25 minutes trying to make the \"better\" version.\n",
        "print(generate_names(10))\n",
        "print(generate_names_fixed(10,5))\n",
        "print(generate_names_better(10, 5))"
      ]
    },
    {
      "cell_type": "code",
      "source": [
        ""
      ],
      "metadata": {
        "id": "Cgv1JVRJPWvc"
      },
      "execution_count": null,
      "outputs": []
    }
  ]
}